{
  "cells": [
    {
      "cell_type": "markdown",
      "metadata": {
        "id": "Sg1xJ6ltrs-C"
      },
      "source": [
        "# Chapter 4 - Policy Gradient Methods"
      ]
    },
    {
      "cell_type": "code",
      "execution_count": 339,
      "metadata": {
        "id": "kPRqQDyNrs-G"
      },
      "outputs": [],
      "source": [
        "import numpy as np\n",
        "import torch\n",
        "import gym\n",
        "from matplotlib import pyplot as plt\n",
        "from torchsummary import summary\n",
        "import torch.nn as nn\n",
        "import torch.nn.functional as F\n",
        "import torch.optim as optim"
      ]
    },
    {
      "cell_type": "code",
      "execution_count": 340,
      "metadata": {
        "id": "AGHjqpAXrs-I"
      },
      "outputs": [],
      "source": [
        "def running_mean(x, N=50):\n",
        "    kernel = np.ones(N)\n",
        "    conv_len = x.shape[0]-N\n",
        "    y = np.zeros(conv_len)\n",
        "    for i in range(conv_len):\n",
        "        y[i] = kernel @ x[i:i+N]\n",
        "        y[i] /= N\n",
        "    return y"
      ]
    },
    {
      "cell_type": "code",
      "execution_count": 341,
      "metadata": {
        "colab": {
          "base_uri": "https://localhost:8080/"
        },
        "id": "yt6ZOezLrs-I",
        "outputId": "d62aaa43-5a73-4cb7-c54b-a63f2c4753d1"
      },
      "outputs": [
        {
          "output_type": "stream",
          "name": "stderr",
          "text": [
            "/usr/local/lib/python3.7/dist-packages/gym/envs/registration.py:594: UserWarning: \u001b[33mWARN: The environment CartPole-v0 is out of date. You should consider upgrading to version `v1`.\u001b[0m\n",
            "  f\"The environment {id} is out of date. You should consider \"\n",
            "/usr/local/lib/python3.7/dist-packages/gym/core.py:318: DeprecationWarning: \u001b[33mWARN: Initializing wrapper in old step API which returns one bool instead of two. It is recommended to set `new_step_api=True` to use new step API. This will be the default behaviour in future.\u001b[0m\n",
            "  \"Initializing wrapper in old step API which returns one bool instead of two. It is recommended to set `new_step_api=True` to use new step API. This will be the default behaviour in future.\"\n",
            "/usr/local/lib/python3.7/dist-packages/gym/wrappers/step_api_compatibility.py:40: DeprecationWarning: \u001b[33mWARN: Initializing environment in old step API which returns one bool instead of two. It is recommended to set `new_step_api=True` to use new step API. This will be the default behaviour in future.\u001b[0m\n",
            "  \"Initializing environment in old step API which returns one bool instead of two. It is recommended to set `new_step_api=True` to use new step API. This will be the default behaviour in future.\"\n"
          ]
        }
      ],
      "source": [
        "env = gym.make(\"CartPole-v0\")"
      ]
    },
    {
      "cell_type": "markdown",
      "metadata": {
        "id": "VN0lboBWrs-J"
      },
      "source": [
        "##### Listing 4.4"
      ]
    },
    {
      "cell_type": "code",
      "execution_count": 356,
      "metadata": {
        "id": "FTITxSWRrs-J"
      },
      "outputs": [],
      "source": [
        "import gym\n",
        "import numpy as np\n",
        "import torch\n",
        "\n",
        "l1 = 4 #A\n",
        "l2 = 150\n",
        "l3 = 2 #B\n",
        "\n",
        "class Model(nn.Module):\n",
        "    def __init__(self):\n",
        "        super(Model, self).__init__()\n",
        "        self.fc1 = torch.nn.Linear(l1, l2)\n",
        "        self.fc2 = torch.nn.Linear(l2, l3)\n",
        " \n",
        "    def forward(self, x):\n",
        "        x = self.fc1(x)\n",
        "        x = torch.nn.LeakyReLU()(x)\n",
        "        x = self.fc2(x)\n",
        "        x = F.softmax(x, dim = 1)\n",
        "        #x = torch.nn.Softmax(dim=0)(x)\n",
        "        return x\n",
        "\n",
        "model = Model()\n",
        "\n",
        "learning_rate = 0.009\n",
        "optimizer = torch.optim.Adam(model.parameters(), lr=learning_rate)\n",
        "\n",
        "#A Input data is length 4\n",
        "#B Output is a 2-length vector for the Left and the Right actions\n",
        "#C Output is a softmax probability distribution over actions"
      ]
    },
    {
      "cell_type": "code",
      "source": [
        "# a = [[ 0.0456,  0.0263,  0.0084, -0.0402],\n",
        "#         [ 0.0462, -0.1689,  0.0076,  0.2551],\n",
        "#         [ 0.0428,  0.0261,  0.0127, -0.0351]]\n",
        "a = [ 0.0442, -0.0435, -0.0458,  0.0188]\n",
        "a = [a]\n",
        "b = torch.FloatTensor(a)\n",
        "model(b)"
      ],
      "metadata": {
        "colab": {
          "base_uri": "https://localhost:8080/"
        },
        "id": "-ypHr96Xyo8I",
        "outputId": "e17f64c6-858f-4461-ef4c-e8b891423264"
      },
      "execution_count": 271,
      "outputs": [
        {
          "output_type": "execute_result",
          "data": {
            "text/plain": [
              "tensor([[0.5185, 0.4815]], grad_fn=<SoftmaxBackward0>)"
            ]
          },
          "metadata": {},
          "execution_count": 271
        }
      ]
    },
    {
      "cell_type": "markdown",
      "metadata": {
        "id": "bcivAja0rs-K"
      },
      "source": [
        "##### Listing 4.5"
      ]
    },
    {
      "cell_type": "code",
      "execution_count": 209,
      "metadata": {
        "id": "XXdZzOOnrs-K"
      },
      "outputs": [],
      "source": [
        "state1 = env.reset()\n",
        "pred = model(torch.from_numpy(state1).float()) #G\n",
        "action = np.random.choice(np.array([0,1]), p=pred.data.numpy()) #H\n",
        "state2, reward, done, info = env.step(action) #I\n",
        "\n",
        "#G Call policy network model to produce predicted action probabilities\n",
        "#H Sample an action from the probability distribution produced by the policy network\n",
        "#I Take the action, receive new state and reward. The info variable is produced by the environment but is irrelevant"
      ]
    },
    {
      "cell_type": "markdown",
      "metadata": {
        "id": "iJzTyUp0rs-L"
      },
      "source": [
        "##### Listing 4.6"
      ]
    },
    {
      "cell_type": "code",
      "execution_count": 311,
      "metadata": {
        "id": "V5Pl31yJrs-M"
      },
      "outputs": [],
      "source": [
        "def discount_rewards(rewards, gamma=0.99):\n",
        "    lenr = len(rewards)\n",
        "    disc_return = torch.pow(gamma,torch.arange(lenr).float()) * rewards #A\n",
        "    disc_return /= disc_return.max() #B\n",
        "    return disc_return\n",
        "\n",
        "#A Compute exponentially decaying rewards\n",
        "#B Normalize the rewards to be within the [0,1] interval to improve numerical stability"
      ]
    },
    {
      "cell_type": "markdown",
      "metadata": {
        "id": "Kp_BZ2Ylrs-M"
      },
      "source": [
        "##### Listing 4.7"
      ]
    },
    {
      "cell_type": "code",
      "execution_count": 312,
      "metadata": {
        "id": "ptwDzIEYrs-M"
      },
      "outputs": [],
      "source": [
        "def loss_fn(preds, r): #A\n",
        "    return -1 * torch.sum(r * torch.log(preds)) #B\n",
        "\n",
        "#A The loss function expects an array of action probabilities for the actions that were taken and the discounted rewards.\n",
        "#B It computes the log of the probabilities, multiplies by the discounted rewards, sums them all and flips the sign."
      ]
    },
    {
      "cell_type": "code",
      "source": [
        "model = torch.nn.Sequential(\n",
        "    torch.nn.Linear(l1, l2),\n",
        "    torch.nn.LeakyReLU(),\n",
        "    torch.nn.Linear(l2, l3),\n",
        "    torch.nn.Softmax(dim=0) #C\n",
        ")"
      ],
      "metadata": {
        "id": "ggFiZgdnuOl0"
      },
      "execution_count": 201,
      "outputs": []
    },
    {
      "cell_type": "code",
      "source": [
        "class Model(nn.Module):\n",
        "    def __init__(self):\n",
        "        super(Model, self).__init__()\n",
        "        self.fc1 = torch.nn.Linear(l1, l2)\n",
        "        self.fc2 = torch.nn.Linear(l2, l3)\n",
        " \n",
        "    def forward(self, x):\n",
        "        x = self.fc1(x)\n",
        "        x = torch.nn.LeakyReLU()(x)\n",
        "        x = self.fc2(x)\n",
        "        x = F.softmax(dim=0)(x)\n",
        "        return x\n",
        "\n",
        "model = Model()"
      ],
      "metadata": {
        "id": "UliJy5ARsCTe"
      },
      "execution_count": 230,
      "outputs": []
    },
    {
      "cell_type": "code",
      "source": [
        "print(model)"
      ],
      "metadata": {
        "colab": {
          "base_uri": "https://localhost:8080/"
        },
        "id": "PAbSNPfNtGtj",
        "outputId": "6c36c756-01ef-49a6-dc31-587d3dc664e3"
      },
      "execution_count": 187,
      "outputs": [
        {
          "output_type": "stream",
          "name": "stdout",
          "text": [
            "Sequential(\n",
            "  (0): Linear(in_features=4, out_features=150, bias=True)\n",
            "  (1): LeakyReLU(negative_slope=0.01)\n",
            "  (2): Linear(in_features=150, out_features=2, bias=True)\n",
            "  (3): Softmax(dim=0)\n",
            ")\n"
          ]
        }
      ]
    },
    {
      "cell_type": "code",
      "source": [
        "print(model)"
      ],
      "metadata": {
        "colab": {
          "base_uri": "https://localhost:8080/"
        },
        "id": "I0e7TOyusXyk",
        "outputId": "6febf55f-2047-47ef-ecda-22143e188ee9"
      },
      "execution_count": 191,
      "outputs": [
        {
          "output_type": "stream",
          "name": "stdout",
          "text": [
            "Model(\n",
            "  (fc1): Linear(in_features=4, out_features=150, bias=True)\n",
            "  (fc2): Linear(in_features=150, out_features=2, bias=True)\n",
            "  (myFirstRelu): ReLU()\n",
            ")\n"
          ]
        }
      ]
    },
    {
      "cell_type": "markdown",
      "metadata": {
        "id": "jKjTlTVUrs-N"
      },
      "source": [
        "##### Listing 4.8"
      ]
    },
    {
      "cell_type": "code",
      "execution_count": 357,
      "metadata": {
        "id": "NhQ_2p-crs-N"
      },
      "outputs": [],
      "source": [
        "MAX_DUR = 200\n",
        "MAX_EPISODES = 400\n",
        "gamma = 0.99\n",
        "score = [] #A\n",
        "expectation = 0.0\n",
        "for episode in range(MAX_EPISODES):\n",
        "    curr_state = env.reset()\n",
        "    done = False\n",
        "    transitions = [] #B\n",
        "    \n",
        "    for t in range(MAX_DUR): #C\n",
        "        #print(torch.from_numpy(curr_state).float())\n",
        "        act_prob = model(torch.from_numpy(curr_state.reshape([1, -1])).float()) #D\n",
        "        #print(act_prob)\n",
        "        action = np.random.choice(np.array([0,1]), p=act_prob.data.numpy().flatten()) #E\n",
        "        prev_state = curr_state\n",
        "        curr_state, _, done, info = env.step(action) #F\n",
        "        transitions.append((prev_state, action, t+1)) #G\n",
        "        if done: #H\n",
        "            break\n",
        "\n",
        "    ep_len = len(transitions) #I\n",
        "    score.append(ep_len)\n",
        "    reward_batch = torch.Tensor([r for (s,a,r) in transitions]).flip(dims=(0,)) #J\n",
        "    disc_returns = discount_rewards(reward_batch) #K\n",
        "    state_batch = torch.Tensor([s for (s,a,r) in transitions]) #L\n",
        "    action_batch = torch.Tensor([a for (s,a,r) in transitions]) #M\n",
        "    pred_batch = model(state_batch) #N\n",
        "    #print(pred_batch)\n",
        "    prob_batch = pred_batch.gather(dim=1,index=action_batch.long().view(-1,1)).squeeze() #O\n",
        "    loss = loss_fn(prob_batch, disc_returns)\n",
        "    optimizer.zero_grad()\n",
        "    loss.backward()\n",
        "    optimizer.step()\n",
        "\n",
        "#A List to keep track of the episode length over training time\n",
        "#B List of state, action, rewards (but we ignore the reward)\n",
        "#C While in episode\n",
        "#D Get the action probabilities\n",
        "#E Select an action stochastically\n",
        "#F Take the action in the environment\n",
        "#G Store this transition\n",
        "#H If game is lost, break out of the loop\n",
        "#I Store the episode length\n",
        "#J Collect all the rewards in the episode in a single tensor\n",
        "#K Compute the discounted version of the rewards\n",
        "#L Collect the states in the episode in a single tensor\n",
        "#M Collect the actions in the episode in a single tensor\n",
        "#N Re-compute the action probabilities for all the states in the episode\n",
        "#O Subset the action-probabilities associated with the actions that were actually taken "
      ]
    },
    {
      "cell_type": "code",
      "execution_count": 358,
      "metadata": {
        "id": "UIvLMDdTrs-O"
      },
      "outputs": [],
      "source": [
        "score = np.array(score)\n",
        "avg_score = running_mean(score, 50)"
      ]
    },
    {
      "cell_type": "code",
      "execution_count": 359,
      "metadata": {
        "colab": {
          "base_uri": "https://localhost:8080/",
          "height": 469
        },
        "id": "Yj30pyIUrs-O",
        "outputId": "7b575cc2-0e7a-4bd3-da39-8671feac5dd0"
      },
      "outputs": [
        {
          "output_type": "execute_result",
          "data": {
            "text/plain": [
              "[<matplotlib.lines.Line2D at 0x7f35aa16e150>]"
            ]
          },
          "metadata": {},
          "execution_count": 359
        },
        {
          "output_type": "display_data",
          "data": {
            "text/plain": [
              "<Figure size 720x504 with 1 Axes>"
            ],
            "image/png": "[encoded data removed]"
          },
          "metadata": {
            "needs_background": "light"
          }
        }
      ],
      "source": [
        "plt.figure(figsize=(10,7))\n",
        "plt.ylabel(\"Episode Duration\",fontsize=22)\n",
        "plt.xlabel(\"Training Epochs\",fontsize=22)\n",
        "plt.plot(avg_score, color='green')"
      ]
    },
    {
      "cell_type": "markdown",
      "metadata": {
        "id": "RzyZnHpbrs-P"
      },
      "source": [
        "##### Listing 4.9"
      ]
    },
    {
      "cell_type": "code",
      "execution_count": 360,
      "metadata": {
        "id": "1eafUDwIrs-P"
      },
      "outputs": [],
      "source": [
        "score = []\n",
        "games = 100\n",
        "done = False\n",
        "state1 = env.reset()\n",
        "for i in range(games):\n",
        "    t=0\n",
        "    while not done: #F\n",
        "        pred = model(torch.from_numpy(state1.reshape([1, -1])).float()) #G\n",
        "        action = np.random.choice(np.array([0,1]), p=pred.data.numpy().flatten()) #H\n",
        "        state2, reward, done, info = env.step(action) #I\n",
        "        state1 = state2 \n",
        "        t += 1\n",
        "        if t > MAX_DUR: #L\n",
        "            break;\n",
        "    state1 = env.reset()\n",
        "    done = False\n",
        "    score.append(t)\n",
        "score = np.array(score)"
      ]
    },
    {
      "cell_type": "code",
      "execution_count": 361,
      "metadata": {
        "colab": {
          "base_uri": "https://localhost:8080/",
          "height": 282
        },
        "id": "ea79Cvc8rs-P",
        "outputId": "008c2448-eb20-48f0-e4c4-5223d7e24b2e"
      },
      "outputs": [
        {
          "output_type": "execute_result",
          "data": {
            "text/plain": [
              "<matplotlib.collections.PathCollection at 0x7f35a9ba95d0>"
            ]
          },
          "metadata": {},
          "execution_count": 361
        },
        {
          "output_type": "display_data",
          "data": {
            "text/plain": [
              "<Figure size 432x288 with 1 Axes>"
            ],
            "image/png": "[encoded data removed]"
          },
          "metadata": {
            "needs_background": "light"
          }
        }
      ],
      "source": [
        "plt.scatter(np.arange(score.shape[0]),score)"
      ]
    },
    {
      "cell_type": "code",
      "execution_count": null,
      "metadata": {
        "id": "9zXLvL4Lrs-Q"
      },
      "outputs": [],
      "source": []
    },
    {
      "cell_type": "code",
      "execution_count": null,
      "metadata": {
        "id": "9Cr3Kg2Krs-Q"
      },
      "outputs": [],
      "source": []
    }
  ],
  "metadata": {
    "kernelspec": {
      "display_name": "Python [conda env:deeprl]",
      "language": "python",
      "name": "conda-env-deeprl-py"
    },
    "language_info": {
      "codemirror_mode": {
        "name": "ipython",
        "version": 3
      },
      "file_extension": ".py",
      "mimetype": "text/x-python",
      "name": "python",
      "nbconvert_exporter": "python",
      "pygments_lexer": "ipython3",
      "version": "3.6.7"
    },
    "colab": {
      "provenance": []
    }
  },
  "nbformat": 4,
  "nbformat_minor": 0
}